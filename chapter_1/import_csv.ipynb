{
 "cells": [
  {
   "cell_type": "code",
   "execution_count": 13,
   "id": "04c5e1f6",
   "metadata": {},
   "outputs": [],
   "source": [
    "import pandas as pd\n",
    "pd.options.display.float_format = '{:,.2f}'.format\n",
    "pd.set_option('display.width', 85)\n",
    "pd.set_option('display.max_columns', 8)"
   ]
  },
  {
   "cell_type": "code",
   "execution_count": 14,
   "id": "b6a2c1ce",
   "metadata": {},
   "outputs": [
    {
     "name": "stderr",
     "output_type": "stream",
     "text": [
      "/var/folders/67/wvmfm9nx3sv7v732vk9vfdhm0000gn/T/ipykernel_26387/1502779197.py:1: FutureWarning: Support for nested sequences for 'parse_dates' in pd.read_csv is deprecated. Combine the desired columns with pd.to_datetime after parsing instead.\n",
      "  landtemps = pd.read_csv('./data/landtempssample.csv',\n",
      "/var/folders/67/wvmfm9nx3sv7v732vk9vfdhm0000gn/T/ipykernel_26387/1502779197.py:1: UserWarning: Could not infer format, so each element will be parsed individually, falling back to `dateutil`. To ensure parsing is consistent and as-expected, please specify a format.\n",
      "  landtemps = pd.read_csv('./data/landtempssample.csv',\n"
     ]
    },
    {
     "data": {
      "text/plain": [
       "pandas.core.frame.DataFrame"
      ]
     },
     "execution_count": 14,
     "metadata": {},
     "output_type": "execute_result"
    }
   ],
   "source": [
    "landtemps = pd.read_csv('./data/landtempssample.csv',\n",
    "                        names=['stationid', 'year', 'month', 'avgtemp', 'latitude', 'longitude', 'elevation', 'station', 'countryid', 'country'],\n",
    "                        skiprows=1,\n",
    "                        parse_dates=[['month', 'year']],\n",
    "                        low_memory=False)\n",
    "\n",
    "type(landtemps)"
   ]
  },
  {
   "cell_type": "code",
   "execution_count": 15,
   "id": "8a996dc5",
   "metadata": {},
   "outputs": [
    {
     "name": "stderr",
     "output_type": "stream",
     "text": [
      "/var/folders/67/wvmfm9nx3sv7v732vk9vfdhm0000gn/T/ipykernel_26387/2649531953.py:1: FutureWarning: Support for nested sequences for 'parse_dates' in pd.read_csv is deprecated. Combine the desired columns with pd.to_datetime after parsing instead.\n",
      "  landtemps = pd.read_csv('./data/landtemps.zip',\n",
      "/var/folders/67/wvmfm9nx3sv7v732vk9vfdhm0000gn/T/ipykernel_26387/2649531953.py:1: UserWarning: Could not infer format, so each element will be parsed individually, falling back to `dateutil`. To ensure parsing is consistent and as-expected, please specify a format.\n",
      "  landtemps = pd.read_csv('./data/landtemps.zip',\n"
     ]
    },
    {
     "data": {
      "text/plain": [
       "pandas.core.frame.DataFrame"
      ]
     },
     "execution_count": 15,
     "metadata": {},
     "output_type": "execute_result"
    }
   ],
   "source": [
    "landtemps = pd.read_csv('./data/landtemps.zip',\n",
    "                        names=['stationid', 'year', 'month', 'avgtemp', 'latitude', 'longitude', 'elevation', 'station', 'countryid', 'country'],\n",
    "                        skiprows=1,\n",
    "                        parse_dates=[['month', 'year']],\n",
    "                        low_memory=False)\n",
    "\n",
    "type(landtemps)"
   ]
  },
  {
   "cell_type": "code",
   "execution_count": 16,
   "id": "7f94804d",
   "metadata": {},
   "outputs": [
    {
     "data": {
      "text/html": [
       "<div>\n",
       "<style scoped>\n",
       "    .dataframe tbody tr th:only-of-type {\n",
       "        vertical-align: middle;\n",
       "    }\n",
       "\n",
       "    .dataframe tbody tr th {\n",
       "        vertical-align: top;\n",
       "    }\n",
       "\n",
       "    .dataframe thead th {\n",
       "        text-align: right;\n",
       "    }\n",
       "</style>\n",
       "<table border=\"1\" class=\"dataframe\">\n",
       "  <thead>\n",
       "    <tr style=\"text-align: right;\">\n",
       "      <th></th>\n",
       "      <th>month_year</th>\n",
       "      <th>stationid</th>\n",
       "      <th>avgtemp</th>\n",
       "      <th>latitude</th>\n",
       "      <th>...</th>\n",
       "      <th>elevation</th>\n",
       "      <th>station</th>\n",
       "      <th>countryid</th>\n",
       "      <th>country</th>\n",
       "    </tr>\n",
       "  </thead>\n",
       "  <tbody>\n",
       "    <tr>\n",
       "      <th>0</th>\n",
       "      <td>1961-01-01</td>\n",
       "      <td>ACW00011604</td>\n",
       "      <td>-0.85</td>\n",
       "      <td>57.77</td>\n",
       "      <td>...</td>\n",
       "      <td>18.00</td>\n",
       "      <td>SAVE</td>\n",
       "      <td>AC</td>\n",
       "      <td>Antigua and Barbuda</td>\n",
       "    </tr>\n",
       "    <tr>\n",
       "      <th>1</th>\n",
       "      <td>1962-01-01</td>\n",
       "      <td>ACW00011604</td>\n",
       "      <td>1.17</td>\n",
       "      <td>57.77</td>\n",
       "      <td>...</td>\n",
       "      <td>18.00</td>\n",
       "      <td>SAVE</td>\n",
       "      <td>AC</td>\n",
       "      <td>Antigua and Barbuda</td>\n",
       "    </tr>\n",
       "    <tr>\n",
       "      <th>2</th>\n",
       "      <td>1963-01-01</td>\n",
       "      <td>ACW00011604</td>\n",
       "      <td>-7.09</td>\n",
       "      <td>57.77</td>\n",
       "      <td>...</td>\n",
       "      <td>18.00</td>\n",
       "      <td>SAVE</td>\n",
       "      <td>AC</td>\n",
       "      <td>Antigua and Barbuda</td>\n",
       "    </tr>\n",
       "    <tr>\n",
       "      <th>3</th>\n",
       "      <td>1964-01-01</td>\n",
       "      <td>ACW00011604</td>\n",
       "      <td>0.66</td>\n",
       "      <td>57.77</td>\n",
       "      <td>...</td>\n",
       "      <td>18.00</td>\n",
       "      <td>SAVE</td>\n",
       "      <td>AC</td>\n",
       "      <td>Antigua and Barbuda</td>\n",
       "    </tr>\n",
       "    <tr>\n",
       "      <th>4</th>\n",
       "      <td>1965-01-01</td>\n",
       "      <td>ACW00011604</td>\n",
       "      <td>0.48</td>\n",
       "      <td>57.77</td>\n",
       "      <td>...</td>\n",
       "      <td>18.00</td>\n",
       "      <td>SAVE</td>\n",
       "      <td>AC</td>\n",
       "      <td>Antigua and Barbuda</td>\n",
       "    </tr>\n",
       "    <tr>\n",
       "      <th>5</th>\n",
       "      <td>1966-01-01</td>\n",
       "      <td>ACW00011604</td>\n",
       "      <td>-4.33</td>\n",
       "      <td>57.77</td>\n",
       "      <td>...</td>\n",
       "      <td>18.00</td>\n",
       "      <td>SAVE</td>\n",
       "      <td>AC</td>\n",
       "      <td>Antigua and Barbuda</td>\n",
       "    </tr>\n",
       "    <tr>\n",
       "      <th>6</th>\n",
       "      <td>1967-01-01</td>\n",
       "      <td>ACW00011604</td>\n",
       "      <td>-2.13</td>\n",
       "      <td>57.77</td>\n",
       "      <td>...</td>\n",
       "      <td>18.00</td>\n",
       "      <td>SAVE</td>\n",
       "      <td>AC</td>\n",
       "      <td>Antigua and Barbuda</td>\n",
       "    </tr>\n",
       "  </tbody>\n",
       "</table>\n",
       "<p>7 rows × 9 columns</p>\n",
       "</div>"
      ],
      "text/plain": [
       "  month_year    stationid  avgtemp  latitude  ...  elevation  station countryid  \\\n",
       "0 1961-01-01  ACW00011604    -0.85     57.77  ...      18.00     SAVE        AC   \n",
       "1 1962-01-01  ACW00011604     1.17     57.77  ...      18.00     SAVE        AC   \n",
       "2 1963-01-01  ACW00011604    -7.09     57.77  ...      18.00     SAVE        AC   \n",
       "3 1964-01-01  ACW00011604     0.66     57.77  ...      18.00     SAVE        AC   \n",
       "4 1965-01-01  ACW00011604     0.48     57.77  ...      18.00     SAVE        AC   \n",
       "5 1966-01-01  ACW00011604    -4.33     57.77  ...      18.00     SAVE        AC   \n",
       "6 1967-01-01  ACW00011604    -2.13     57.77  ...      18.00     SAVE        AC   \n",
       "\n",
       "               country  \n",
       "0  Antigua and Barbuda  \n",
       "1  Antigua and Barbuda  \n",
       "2  Antigua and Barbuda  \n",
       "3  Antigua and Barbuda  \n",
       "4  Antigua and Barbuda  \n",
       "5  Antigua and Barbuda  \n",
       "6  Antigua and Barbuda  \n",
       "\n",
       "[7 rows x 9 columns]"
      ]
     },
     "execution_count": 16,
     "metadata": {},
     "output_type": "execute_result"
    }
   ],
   "source": [
    "landtemps.head(7)"
   ]
  },
  {
   "cell_type": "code",
   "execution_count": 17,
   "id": "98f7e8f5",
   "metadata": {},
   "outputs": [
    {
     "data": {
      "text/plain": [
       "month_year    datetime64[ns]\n",
       "stationid             object\n",
       "avgtemp              float64\n",
       "latitude             float64\n",
       "longitude            float64\n",
       "elevation            float64\n",
       "station               object\n",
       "countryid             object\n",
       "country               object\n",
       "dtype: object"
      ]
     },
     "execution_count": 17,
     "metadata": {},
     "output_type": "execute_result"
    }
   ],
   "source": [
    "landtemps.dtypes"
   ]
  },
  {
   "cell_type": "code",
   "execution_count": 18,
   "id": "2a717e67",
   "metadata": {},
   "outputs": [
    {
     "data": {
      "text/plain": [
       "(16904868, 9)"
      ]
     },
     "execution_count": 18,
     "metadata": {},
     "output_type": "execute_result"
    }
   ],
   "source": [
    "landtemps.shape"
   ]
  },
  {
   "cell_type": "code",
   "execution_count": 19,
   "id": "8fb5e439",
   "metadata": {},
   "outputs": [
    {
     "data": {
      "text/plain": [
       "measuredate    datetime64[ns]\n",
       "stationid              object\n",
       "avgtemp               float64\n",
       "latitude              float64\n",
       "longitude             float64\n",
       "elevation             float64\n",
       "station                object\n",
       "countryid              object\n",
       "country                object\n",
       "dtype: object"
      ]
     },
     "execution_count": 19,
     "metadata": {},
     "output_type": "execute_result"
    }
   ],
   "source": [
    "landtemps.rename(columns={'month_year':'measuredate'}, inplace=True)\n",
    "landtemps.dtypes"
   ]
  },
  {
   "cell_type": "code",
   "execution_count": 20,
   "id": "d80c75b0",
   "metadata": {},
   "outputs": [
    {
     "data": {
      "text/plain": [
       "count   14,461,547.00\n",
       "mean            10.88\n",
       "std             11.51\n",
       "min            -75.00\n",
       "25%              3.41\n",
       "50%             12.18\n",
       "75%             19.51\n",
       "max             42.29\n",
       "Name: avgtemp, dtype: float64"
      ]
     },
     "execution_count": 20,
     "metadata": {},
     "output_type": "execute_result"
    }
   ],
   "source": [
    "landtemps.avgtemp.describe()"
   ]
  },
  {
   "cell_type": "code",
   "execution_count": 21,
   "id": "51e01712",
   "metadata": {},
   "outputs": [
    {
     "data": {
      "text/plain": [
       "measuredate          0\n",
       "stationid            0\n",
       "avgtemp        2443321\n",
       "latitude             0\n",
       "longitude            0\n",
       "elevation            0\n",
       "station              0\n",
       "countryid            0\n",
       "country            408\n",
       "dtype: int64"
      ]
     },
     "execution_count": 21,
     "metadata": {},
     "output_type": "execute_result"
    }
   ],
   "source": [
    "landtemps.isnull().sum()"
   ]
  },
  {
   "cell_type": "code",
   "execution_count": 22,
   "id": "1263ec01",
   "metadata": {},
   "outputs": [
    {
     "data": {
      "text/plain": [
       "(14461547, 9)"
      ]
     },
     "execution_count": 22,
     "metadata": {},
     "output_type": "execute_result"
    }
   ],
   "source": [
    "landtemps.dropna(subset=['avgtemp'], inplace=True)\n",
    "landtemps.shape"
   ]
  }
 ],
 "metadata": {
  "kernelspec": {
   "display_name": "Python 3",
   "language": "python",
   "name": "python3"
  },
  "language_info": {
   "codemirror_mode": {
    "name": "ipython",
    "version": 3
   },
   "file_extension": ".py",
   "mimetype": "text/x-python",
   "name": "python",
   "nbconvert_exporter": "python",
   "pygments_lexer": "ipython3",
   "version": "3.10.17"
  }
 },
 "nbformat": 4,
 "nbformat_minor": 5
}
