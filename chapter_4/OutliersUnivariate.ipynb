{
 "cells": [
  {
   "cell_type": "code",
   "execution_count": 22,
   "id": "7daeb483",
   "metadata": {},
   "outputs": [],
   "source": [
    "import pandas as pd\n",
    "import numpy as np\n",
    "import matplotlib.pyplot as plt\n",
    "import statsmodels.api as sm\n",
    "import scipy.stats as scistat\n",
    "pd.set_option('display.width', 62)\n",
    "pd.set_option('display.max_columns', 6)\n",
    "pd.set_option('display.max_rows', 200)\n",
    "pd.options.display.float_format = '{:,.2f}'.format"
   ]
  },
  {
   "cell_type": "code",
   "execution_count": 23,
   "id": "4affac21",
   "metadata": {},
   "outputs": [],
   "source": [
    "covidtotals = pd.read_csv(\"data/covidtotals.csv\")\n",
    "covidtotals.set_index(\"iso_code\", inplace=True)"
   ]
  },
  {
   "cell_type": "code",
   "execution_count": 24,
   "id": "131e82e6",
   "metadata": {},
   "outputs": [],
   "source": [
    "totvars = ['location', 'total_cases', 'total_deaths', 'total_cases_pm', 'total_deaths_pm']\n",
    "\n",
    "demovars = ['population', 'pop_desity', 'median_age', 'gdp_per_capita', 'hosp_beds', 'hum_dev_ind']"
   ]
  },
  {
   "cell_type": "code",
   "execution_count": 25,
   "id": "92dca1be",
   "metadata": {},
   "outputs": [
    {
     "data": {
      "text/html": [
       "<div>\n",
       "<style scoped>\n",
       "    .dataframe tbody tr th:only-of-type {\n",
       "        vertical-align: middle;\n",
       "    }\n",
       "\n",
       "    .dataframe tbody tr th {\n",
       "        vertical-align: top;\n",
       "    }\n",
       "\n",
       "    .dataframe thead th {\n",
       "        text-align: right;\n",
       "    }\n",
       "</style>\n",
       "<table border=\"1\" class=\"dataframe\">\n",
       "  <thead>\n",
       "    <tr style=\"text-align: right;\">\n",
       "      <th></th>\n",
       "      <th>total_cases</th>\n",
       "      <th>total_deaths</th>\n",
       "      <th>total_cases_pm</th>\n",
       "      <th>total_deaths_pm</th>\n",
       "    </tr>\n",
       "  </thead>\n",
       "  <tbody>\n",
       "    <tr>\n",
       "      <th>count</th>\n",
       "      <td>231.00</td>\n",
       "      <td>231.00</td>\n",
       "      <td>231.00</td>\n",
       "      <td>231.00</td>\n",
       "    </tr>\n",
       "    <tr>\n",
       "      <th>mean</th>\n",
       "      <td>3,351,598.58</td>\n",
       "      <td>30,214.20</td>\n",
       "      <td>206,177.79</td>\n",
       "      <td>1,261.78</td>\n",
       "    </tr>\n",
       "    <tr>\n",
       "      <th>std</th>\n",
       "      <td>11,483,211.82</td>\n",
       "      <td>104,778.94</td>\n",
       "      <td>203,858.10</td>\n",
       "      <td>1,314.98</td>\n",
       "    </tr>\n",
       "    <tr>\n",
       "      <th>min</th>\n",
       "      <td>4.00</td>\n",
       "      <td>0.00</td>\n",
       "      <td>354.49</td>\n",
       "      <td>0.00</td>\n",
       "    </tr>\n",
       "    <tr>\n",
       "      <th>25%</th>\n",
       "      <td>25,671.50</td>\n",
       "      <td>177.50</td>\n",
       "      <td>21,821.86</td>\n",
       "      <td>141.18</td>\n",
       "    </tr>\n",
       "    <tr>\n",
       "      <th>50%</th>\n",
       "      <td>191,496.00</td>\n",
       "      <td>1,937.00</td>\n",
       "      <td>133,946.25</td>\n",
       "      <td>827.05</td>\n",
       "    </tr>\n",
       "    <tr>\n",
       "      <th>75%</th>\n",
       "      <td>1,294,286.00</td>\n",
       "      <td>14,150.00</td>\n",
       "      <td>345,689.83</td>\n",
       "      <td>1,997.51</td>\n",
       "    </tr>\n",
       "    <tr>\n",
       "      <th>max</th>\n",
       "      <td>103,436,829.00</td>\n",
       "      <td>1,127,152.00</td>\n",
       "      <td>763,475.44</td>\n",
       "      <td>6,507.66</td>\n",
       "    </tr>\n",
       "  </tbody>\n",
       "</table>\n",
       "</div>"
      ],
      "text/plain": [
       "         total_cases  total_deaths  total_cases_pm  \\\n",
       "count         231.00        231.00          231.00   \n",
       "mean    3,351,598.58     30,214.20      206,177.79   \n",
       "std    11,483,211.82    104,778.94      203,858.10   \n",
       "min             4.00          0.00          354.49   \n",
       "25%        25,671.50        177.50       21,821.86   \n",
       "50%       191,496.00      1,937.00      133,946.25   \n",
       "75%     1,294,286.00     14,150.00      345,689.83   \n",
       "max   103,436,829.00  1,127,152.00      763,475.44   \n",
       "\n",
       "       total_deaths_pm  \n",
       "count           231.00  \n",
       "mean          1,261.78  \n",
       "std           1,314.98  \n",
       "min               0.00  \n",
       "25%             141.18  \n",
       "50%             827.05  \n",
       "75%           1,997.51  \n",
       "max           6,507.66  "
      ]
     },
     "execution_count": 25,
     "metadata": {},
     "output_type": "execute_result"
    }
   ],
   "source": [
    "covidtotalsonly = covidtotals.loc[:, totvars]\n",
    "covidtotalsonly.describe()"
   ]
  },
  {
   "cell_type": "code",
   "execution_count": 26,
   "id": "98970209",
   "metadata": {},
   "outputs": [
    {
     "data": {
      "text/html": [
       "<div>\n",
       "<style scoped>\n",
       "    .dataframe tbody tr th:only-of-type {\n",
       "        vertical-align: middle;\n",
       "    }\n",
       "\n",
       "    .dataframe tbody tr th {\n",
       "        vertical-align: top;\n",
       "    }\n",
       "\n",
       "    .dataframe thead th {\n",
       "        text-align: right;\n",
       "    }\n",
       "</style>\n",
       "<table border=\"1\" class=\"dataframe\">\n",
       "  <thead>\n",
       "    <tr style=\"text-align: right;\">\n",
       "      <th></th>\n",
       "      <th>total_cases</th>\n",
       "      <th>total_deaths</th>\n",
       "      <th>total_cases_pm</th>\n",
       "      <th>total_deaths_pm</th>\n",
       "    </tr>\n",
       "  </thead>\n",
       "  <tbody>\n",
       "    <tr>\n",
       "      <th>0.00</th>\n",
       "      <td>4.00</td>\n",
       "      <td>0.00</td>\n",
       "      <td>354.49</td>\n",
       "      <td>0.00</td>\n",
       "    </tr>\n",
       "    <tr>\n",
       "      <th>0.10</th>\n",
       "      <td>8,359.00</td>\n",
       "      <td>31.00</td>\n",
       "      <td>3,138.57</td>\n",
       "      <td>32.88</td>\n",
       "    </tr>\n",
       "    <tr>\n",
       "      <th>0.20</th>\n",
       "      <td>17,181.00</td>\n",
       "      <td>126.00</td>\n",
       "      <td>10,885.74</td>\n",
       "      <td>105.30</td>\n",
       "    </tr>\n",
       "    <tr>\n",
       "      <th>0.30</th>\n",
       "      <td>38,008.00</td>\n",
       "      <td>294.00</td>\n",
       "      <td>35,834.60</td>\n",
       "      <td>210.51</td>\n",
       "    </tr>\n",
       "    <tr>\n",
       "      <th>0.40</th>\n",
       "      <td>74,129.00</td>\n",
       "      <td>844.00</td>\n",
       "      <td>86,126.24</td>\n",
       "      <td>498.79</td>\n",
       "    </tr>\n",
       "    <tr>\n",
       "      <th>0.50</th>\n",
       "      <td>191,496.00</td>\n",
       "      <td>1,937.00</td>\n",
       "      <td>133,946.25</td>\n",
       "      <td>827.05</td>\n",
       "    </tr>\n",
       "    <tr>\n",
       "      <th>0.60</th>\n",
       "      <td>472,755.00</td>\n",
       "      <td>4,384.00</td>\n",
       "      <td>220,429.37</td>\n",
       "      <td>1,251.30</td>\n",
       "    </tr>\n",
       "    <tr>\n",
       "      <th>0.70</th>\n",
       "      <td>1,041,111.00</td>\n",
       "      <td>9,646.00</td>\n",
       "      <td>293,737.44</td>\n",
       "      <td>1,697.57</td>\n",
       "    </tr>\n",
       "    <tr>\n",
       "      <th>0.80</th>\n",
       "      <td>1,877,065.00</td>\n",
       "      <td>21,218.00</td>\n",
       "      <td>416,608.11</td>\n",
       "      <td>2,271.68</td>\n",
       "    </tr>\n",
       "    <tr>\n",
       "      <th>0.90</th>\n",
       "      <td>5,641,992.00</td>\n",
       "      <td>62,288.00</td>\n",
       "      <td>512,388.40</td>\n",
       "      <td>3,155.94</td>\n",
       "    </tr>\n",
       "    <tr>\n",
       "      <th>1.00</th>\n",
       "      <td>103,436,829.00</td>\n",
       "      <td>1,127,152.00</td>\n",
       "      <td>763,475.44</td>\n",
       "      <td>6,507.66</td>\n",
       "    </tr>\n",
       "  </tbody>\n",
       "</table>\n",
       "</div>"
      ],
      "text/plain": [
       "        total_cases  total_deaths  total_cases_pm  \\\n",
       "0.00           4.00          0.00          354.49   \n",
       "0.10       8,359.00         31.00        3,138.57   \n",
       "0.20      17,181.00        126.00       10,885.74   \n",
       "0.30      38,008.00        294.00       35,834.60   \n",
       "0.40      74,129.00        844.00       86,126.24   \n",
       "0.50     191,496.00      1,937.00      133,946.25   \n",
       "0.60     472,755.00      4,384.00      220,429.37   \n",
       "0.70   1,041,111.00      9,646.00      293,737.44   \n",
       "0.80   1,877,065.00     21,218.00      416,608.11   \n",
       "0.90   5,641,992.00     62,288.00      512,388.40   \n",
       "1.00 103,436,829.00  1,127,152.00      763,475.44   \n",
       "\n",
       "      total_deaths_pm  \n",
       "0.00             0.00  \n",
       "0.10            32.88  \n",
       "0.20           105.30  \n",
       "0.30           210.51  \n",
       "0.40           498.79  \n",
       "0.50           827.05  \n",
       "0.60         1,251.30  \n",
       "0.70         1,697.57  \n",
       "0.80         2,271.68  \n",
       "0.90         3,155.94  \n",
       "1.00         6,507.66  "
      ]
     },
     "execution_count": 26,
     "metadata": {},
     "output_type": "execute_result"
    }
   ],
   "source": [
    "covidtotalsonly.quantile(np.arange(0.0, 1.1, 0.1), numeric_only=True)"
   ]
  },
  {
   "cell_type": "code",
   "execution_count": 27,
   "id": "19143a19",
   "metadata": {},
   "outputs": [
    {
     "data": {
      "text/plain": [
       "total_cases       6.31\n",
       "total_deaths      7.10\n",
       "total_cases_pm    0.83\n",
       "total_deaths_pm   1.25\n",
       "dtype: float64"
      ]
     },
     "execution_count": 27,
     "metadata": {},
     "output_type": "execute_result"
    }
   ],
   "source": [
    "covidtotalsonly.skew(numeric_only=True)"
   ]
  },
  {
   "cell_type": "code",
   "execution_count": 28,
   "id": "40390d02",
   "metadata": {},
   "outputs": [
    {
     "data": {
      "text/plain": [
       "total_cases       47.08\n",
       "total_deaths      61.73\n",
       "total_cases_pm    -0.43\n",
       "total_deaths_pm    1.26\n",
       "dtype: float64"
      ]
     },
     "execution_count": 28,
     "metadata": {},
     "output_type": "execute_result"
    }
   ],
   "source": [
    "covidtotalsonly.kurtosis(numeric_only=True)"
   ]
  },
  {
   "cell_type": "code",
   "execution_count": 29,
   "id": "fe733ddb",
   "metadata": {},
   "outputs": [
    {
     "name": "stdout",
     "output_type": "stream",
     "text": [
      "total cases: 0.00000\n",
      "total deaths: 0.00000\n",
      "total cases pm: 0.00000\n",
      "total deaths pm: 0.00000\n"
     ]
    }
   ],
   "source": [
    "def testnorm(var, df):\n",
    "    stat, p = scistat.shapiro(df[var])\n",
    "    return p\n",
    "\n",
    "print(\"total cases: %.5f\" % testnorm(\"total_cases\", covidtotalsonly))\n",
    "print(\"total deaths: %.5f\" % testnorm(\"total_deaths\", covidtotalsonly))\n",
    "print(\"total cases pm: %.5f\" % testnorm(\"total_cases_pm\", covidtotalsonly))\n",
    "print(\"total deaths pm: %.5f\" % testnorm(\"total_deaths_pm\", covidtotalsonly))"
   ]
  },
  {
   "cell_type": "code",
   "execution_count": 30,
   "id": "33f24fdc",
   "metadata": {},
   "outputs": [
    {
     "data": {
      "image/png": "[encoded data removed]",
      "text/plain": [
       "<Figure size 640x480 with 1 Axes>"
      ]
     },
     "metadata": {},
     "output_type": "display_data"
    },
    {
     "data": {
      "image/png": "[encoded data removed]",
      "text/plain": [
       "<Figure size 640x480 with 1 Axes>"
      ]
     },
     "metadata": {},
     "output_type": "display_data"
    }
   ],
   "source": [
    "sm.qqplot(covidtotalsonly[['total_cases']].sort_values(['total_cases']), line='s')\n",
    "plt.title(\"QQ Plot of Total Cases\")\n",
    "sm.qqplot(covidtotalsonly[['total_cases_pm']].sort_values(['total_cases_pm']), line='s')\n",
    "plt.title(\"QQ Plot of Total Cases Per Million\")\n",
    "plt.show()"
   ]
  },
  {
   "cell_type": "code",
   "execution_count": 32,
   "id": "b430841d",
   "metadata": {},
   "outputs": [
    {
     "name": "stdout",
     "output_type": "stream",
     "text": [
      "-1877250.25 <--> 3197207.75\n"
     ]
    }
   ],
   "source": [
    "thirdq, firstq = covidtotalsonly.total_cases.quantile(0.75), covidtotalsonly.total_cases.quantile(0.25)\n",
    "interquartulerange = 1.5*(thirdq-firstq)\n",
    "outlierhigh, outlierlow = interquartulerange+thirdq, firstq-interquartulerange\n",
    "print(outlierlow, outlierhigh, sep=\" <--> \")"
   ]
  },
  {
   "cell_type": "code",
   "execution_count": 33,
   "id": "9ef6aaaf",
   "metadata": {},
   "outputs": [
    {
     "name": "stderr",
     "output_type": "stream",
     "text": [
      "/var/folders/67/wvmfm9nx3sv7v732vk9vfdhm0000gn/T/ipykernel_55928/1310758181.py:18: FutureWarning: The behavior of DataFrame concatenation with empty or all-NA entries is deprecated. In a future version, this will no longer exclude empty or all-NA columns when determining the result dtypes. To retain the old behavior, exclude the relevant entries before the concat operation.\n",
      "  dfout = pd.concat([dfout, df])\n"
     ]
    }
   ],
   "source": [
    "def getoutliers():\n",
    "  dfout = pd.DataFrame(columns=covidtotals. \\\n",
    "    columns, data=None)\n",
    "  for col in covidtotalsonly.columns[1:]:\n",
    "    thirdq, firstq = covidtotalsonly[col].\\\n",
    "      quantile(0.75),covidtotalsonly[col].\\\n",
    "      quantile(0.25)\n",
    "    interquartilerange = 1.5*(thirdq-firstq)\n",
    "    outlierhigh, outlierlow = \\\n",
    "      interquartilerange+thirdq, \\\n",
    "      firstq-interquartilerange\n",
    "    df = covidtotals.loc[(covidtotals[col]> \\\n",
    "      outlierhigh) | (covidtotals[col]< \\\n",
    "      outlierlow)]\n",
    "    df = df.assign(varname = col,\n",
    "      threshlow = outlierlow,\n",
    "      threshhigh = outlierhigh)\n",
    "    dfout = pd.concat([dfout, df])\n",
    "  return dfout\n",
    "\n",
    "outliers = getoutliers()\n",
    "outliers.varname.value_counts()\n",
    "outliers.to_excel(\"views/outlierscases.xlsx\")"
   ]
  },
  {
   "cell_type": "code",
   "execution_count": 35,
   "id": "99d28062",
   "metadata": {},
   "outputs": [
    {
     "data": {
      "text/html": [
       "<div>\n",
       "<style scoped>\n",
       "    .dataframe tbody tr th:only-of-type {\n",
       "        vertical-align: middle;\n",
       "    }\n",
       "\n",
       "    .dataframe tbody tr th {\n",
       "        vertical-align: top;\n",
       "    }\n",
       "\n",
       "    .dataframe thead th {\n",
       "        text-align: right;\n",
       "    }\n",
       "</style>\n",
       "<table border=\"1\" class=\"dataframe\">\n",
       "  <thead>\n",
       "    <tr style=\"text-align: right;\">\n",
       "      <th></th>\n",
       "      <th>location</th>\n",
       "      <th>total_deaths_pm</th>\n",
       "      <th>total_cases_pm</th>\n",
       "      <th>median_age</th>\n",
       "      <th>hum_dev_ind</th>\n",
       "    </tr>\n",
       "  </thead>\n",
       "  <tbody>\n",
       "    <tr>\n",
       "      <th>PER</th>\n",
       "      <td>Peru</td>\n",
       "      <td>6,507.66</td>\n",
       "      <td>133,239.00</td>\n",
       "      <td>29.10</td>\n",
       "      <td>0.78</td>\n",
       "    </tr>\n",
       "    <tr>\n",
       "      <th>BGR</th>\n",
       "      <td>Bulgaria</td>\n",
       "      <td>5,703.52</td>\n",
       "      <td>195,767.89</td>\n",
       "      <td>44.70</td>\n",
       "      <td>0.82</td>\n",
       "    </tr>\n",
       "    <tr>\n",
       "      <th>BIH</th>\n",
       "      <td>Bosnia and Herzegovina</td>\n",
       "      <td>5,066.29</td>\n",
       "      <td>124,806.33</td>\n",
       "      <td>42.50</td>\n",
       "      <td>0.78</td>\n",
       "    </tr>\n",
       "    <tr>\n",
       "      <th>HUN</th>\n",
       "      <td>Hungary</td>\n",
       "      <td>4,918.28</td>\n",
       "      <td>223,685.16</td>\n",
       "      <td>43.40</td>\n",
       "      <td>0.85</td>\n",
       "    </tr>\n",
       "  </tbody>\n",
       "</table>\n",
       "</div>"
      ],
      "text/plain": [
       "                   location  total_deaths_pm  \\\n",
       "PER                    Peru         6,507.66   \n",
       "BGR                Bulgaria         5,703.52   \n",
       "BIH  Bosnia and Herzegovina         5,066.29   \n",
       "HUN                 Hungary         4,918.28   \n",
       "\n",
       "     total_cases_pm  median_age  hum_dev_ind  \n",
       "PER      133,239.00       29.10         0.78  \n",
       "BGR      195,767.89       44.70         0.82  \n",
       "BIH      124,806.33       42.50         0.78  \n",
       "HUN      223,685.16       43.40         0.85  "
      ]
     },
     "execution_count": 35,
     "metadata": {},
     "output_type": "execute_result"
    }
   ],
   "source": [
    "outliers.loc[outliers.varname==\"total_deaths_pm\", ['location', 'total_deaths_pm', 'total_cases_pm', 'median_age', 'hum_dev_ind']].sort_values(['total_deaths_pm'], ascending=False)"
   ]
  },
  {
   "cell_type": "code",
   "execution_count": 36,
   "id": "1dc4043f",
   "metadata": {},
   "outputs": [
    {
     "data": {
      "text/html": [
       "<div>\n",
       "<style scoped>\n",
       "    .dataframe tbody tr th:only-of-type {\n",
       "        vertical-align: middle;\n",
       "    }\n",
       "\n",
       "    .dataframe tbody tr th {\n",
       "        vertical-align: top;\n",
       "    }\n",
       "\n",
       "    .dataframe thead th {\n",
       "        text-align: right;\n",
       "    }\n",
       "</style>\n",
       "<table border=\"1\" class=\"dataframe\">\n",
       "  <thead>\n",
       "    <tr style=\"text-align: right;\">\n",
       "      <th></th>\n",
       "      <th>total_deaths_pm</th>\n",
       "      <th>median_age</th>\n",
       "      <th>hum_dev_ind</th>\n",
       "    </tr>\n",
       "  </thead>\n",
       "  <tbody>\n",
       "    <tr>\n",
       "      <th>0.25</th>\n",
       "      <td>141.18</td>\n",
       "      <td>22.05</td>\n",
       "      <td>0.60</td>\n",
       "    </tr>\n",
       "    <tr>\n",
       "      <th>0.50</th>\n",
       "      <td>827.05</td>\n",
       "      <td>29.60</td>\n",
       "      <td>0.74</td>\n",
       "    </tr>\n",
       "    <tr>\n",
       "      <th>0.75</th>\n",
       "      <td>1,997.51</td>\n",
       "      <td>38.70</td>\n",
       "      <td>0.83</td>\n",
       "    </tr>\n",
       "  </tbody>\n",
       "</table>\n",
       "</div>"
      ],
      "text/plain": [
       "      total_deaths_pm  median_age  hum_dev_ind\n",
       "0.25           141.18       22.05         0.60\n",
       "0.50           827.05       29.60         0.74\n",
       "0.75         1,997.51       38.70         0.83"
      ]
     },
     "execution_count": 36,
     "metadata": {},
     "output_type": "execute_result"
    }
   ],
   "source": [
    "covidtotals[['total_deaths_pm', 'median_age', 'hum_dev_ind']].quantile([0.25,0.5,0.75])"
   ]
  },
  {
   "cell_type": "code",
   "execution_count": 37,
   "id": "b225c8ed",
   "metadata": {},
   "outputs": [
    {
     "data": {
      "image/png": "[encoded data removed]",
      "text/plain": [
       "<Figure size 640x480 with 1 Axes>"
      ]
     },
     "metadata": {},
     "output_type": "display_data"
    }
   ],
   "source": [
    "plt.hist(covidtotalsonly['total_cases']/1000, bins=7)\n",
    "plt.title(\"Total COVID-19 Cases (thousand)\")\n",
    "plt.xlabel('Cases')\n",
    "plt.ylabel(\"Number of Countries\")\n",
    "plt.show()"
   ]
  },
  {
   "cell_type": "code",
   "execution_count": 38,
   "id": "2a18604e",
   "metadata": {},
   "outputs": [
    {
     "data": {
      "image/png": "[encoded data removed]",
      "text/plain": [
       "<Figure size 640x480 with 1 Axes>"
      ]
     },
     "metadata": {},
     "output_type": "display_data"
    }
   ],
   "source": [
    "covidlogs = covidtotalsonly.copy()\n",
    "for col in covidlogs.columns[1:]:\n",
    "    covidlogs[col] = np.log1p(covidlogs[col])\n",
    "\n",
    "plt.hist(covidlogs['total_cases'], bins=7)\n",
    "plt.title(\"Total COVID-19 Cases (log)\")\n",
    "plt.xlabel('Cases')\n",
    "plt.ylabel(\"Number of Countries\")\n",
    "plt.show()"
   ]
  }
 ],
 "metadata": {
  "kernelspec": {
   "display_name": "Python 3.12 (venv312)",
   "language": "python",
   "name": "venv312"
  },
  "language_info": {
   "codemirror_mode": {
    "name": "ipython",
    "version": 3
   },
   "file_extension": ".py",
   "mimetype": "text/x-python",
   "name": "python",
   "nbconvert_exporter": "python",
   "pygments_lexer": "ipython3",
   "version": "3.12.10"
  }
 },
 "nbformat": 4,
 "nbformat_minor": 5
}
